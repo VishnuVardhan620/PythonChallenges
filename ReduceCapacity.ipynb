{
 "cells": [
  {
   "cell_type": "code",
   "execution_count": null,
   "metadata": {},
   "outputs": [],
   "source": [
    "import math\n",
    "def reduceCapacity(model):\n",
    "    rem = model[0]\n",
    "    model.remove(rem)\n",
    "    lst =[]\n",
    "    lst2 =[]\n",
    "    fin =[]\n",
    "    n = len(model)\n",
    "    d = math.ceil(n/2)\n",
    "    for i in set(model):\n",
    "        c = model.count(i)\n",
    "        lst.append(c)\n",
    "        lst2.append(c)\n",
    "    lst = sorted(lst)\n",
    "    while True:\n",
    "        c = lst.pop()\n",
    "        fin.append(c)\n",
    "        s = sum(fin)\n",
    "        if s >= d:\n",
    "            return len(lst2)- len(lst)\n",
    "            break\n",
    "        else:\n",
    "            continue"
   ]
  }
 ],
 "metadata": {
  "kernelspec": {
   "display_name": "Python 3",
   "language": "python",
   "name": "python3"
  },
  "language_info": {
   "codemirror_mode": {
    "name": "ipython",
    "version": 3
   },
   "file_extension": ".py",
   "mimetype": "text/x-python",
   "name": "python",
   "nbconvert_exporter": "python",
   "pygments_lexer": "ipython3",
   "version": "3.6.4"
  }
 },
 "nbformat": 4,
 "nbformat_minor": 2
}
